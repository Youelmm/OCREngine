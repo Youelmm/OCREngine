{
 "cells": [
  {
   "cell_type": "markdown",
   "metadata": {},
   "source": [
    "# Imports"
   ]
  },
  {
   "cell_type": "code",
   "execution_count": 3,
   "metadata": {},
   "outputs": [],
   "source": [
    "from skimage import io\n",
    "import matplotlib.pyplot as plt\n",
    "import numpy as np\n",
    "import os"
   ]
  },
  {
   "cell_type": "markdown",
   "metadata": {},
   "source": [
    "# Processing chain"
   ]
  },
  {
   "cell_type": "markdown",
   "metadata": {},
   "source": [
    "## RGB to grayscale"
   ]
  },
  {
   "cell_type": "code",
   "execution_count": 4,
   "metadata": {},
   "outputs": [],
   "source": [
    "def to_grayscale_image(image):\n",
    "    # Image copy\n",
    "    new_image = np.zeros(shape=image.shape[:-1])\n",
    "    # From-RGB-to-grayscale conversion weights\n",
    "    r_w, g_w, b_w = 0.2125, 0.7154, 0.0721\n",
    "    # Conversion\n",
    "    for i in range(new_image.shape[0]):\n",
    "        for j in range(new_image.shape[1]):\n",
    "            pixel = image[i][j]\n",
    "            new_image[i][j] = r_w * pixel[0] + g_w * pixel[1] + b_w * pixel[2]\n",
    "    return new_image.astype(int)"
   ]
  },
  {
   "cell_type": "markdown",
   "metadata": {},
   "source": [
    "## Image binarization"
   ]
  },
  {
   "cell_type": "code",
   "execution_count": 5,
   "metadata": {},
   "outputs": [],
   "source": [
    "def to_binary_image(image):\n",
    "    # To grayscale image\n",
    "    image = to_grayscale_image(image)\n",
    "    # Above this threshold, the pixel is white\n",
    "    binarization_threshold = 120\n",
    "    # Filtering black and white pixels\n",
    "    binary_image = (image >= binarization_threshold).astype(int).copy()\n",
    "    # Setting the corresponnding value to each pixel\n",
    "    binary_image[binary_image == 1] = 255\n",
    "    return binary_image"
   ]
  },
  {
   "cell_type": "markdown",
   "metadata": {},
   "source": [
    "## Image cropping"
   ]
  },
  {
   "cell_type": "markdown",
   "metadata": {},
   "source": [
    "This part is useful and interesting for certain extraction algorithms such as zoning to obtain more meaningful results. The aim of this is to keep only the interesting part of the image: the symbol area."
   ]
  },
  {
   "cell_type": "code",
   "execution_count": 6,
   "metadata": {},
   "outputs": [],
   "source": [
    "def crop_image(image):\n",
    "    # Getting the black pixel positions\n",
    "    black_pixel_positions = np.argwhere(image == 0)\n",
    "\n",
    "    # Getting the minimum and maximum coordinates\n",
    "    minimum_coordinates = black_pixel_positions.min(axis=0)\n",
    "    maximum_coordinates = black_pixel_positions.max(axis=0)\n",
    "\n",
    "    # Getting the cropped image\n",
    "    cropped_image = image[minimum_coordinates[0]:maximum_coordinates[0] + 1, minimum_coordinates[1]:maximum_coordinates[1] + 1]\n",
    "\n",
    "    return cropped_image"
   ]
  },
  {
   "cell_type": "markdown",
   "metadata": {},
   "source": [
    "## Getting the final processed image"
   ]
  },
  {
   "cell_type": "code",
   "execution_count": null,
   "metadata": {},
   "outputs": [],
   "source": [
    "def get_processed_image(image):\n",
    "    # To binary image\n",
    "    image = to_binary_image(image)\n",
    "    # Cropping the image\n",
    "    image = crop_image(image)\n",
    "    return image"
   ]
  },
  {
   "cell_type": "markdown",
   "metadata": {},
   "source": [
    "# Feature extraction"
   ]
  },
  {
   "cell_type": "markdown",
   "metadata": {},
   "source": [
    "## First algorithm: zoning"
   ]
  },
  {
   "cell_type": "code",
   "execution_count": 7,
   "metadata": {},
   "outputs": [],
   "source": [
    "# Getting characteristics\n",
    "def get_characteristic_vector(image):\n",
    "    square_size = 4\n",
    "    # TODO"
   ]
  },
  {
   "cell_type": "markdown",
   "metadata": {},
   "source": [
    "## Second algorithm"
   ]
  },
  {
   "cell_type": "markdown",
   "metadata": {},
   "source": [
    "## Third algorithm"
   ]
  },
  {
   "cell_type": "markdown",
   "metadata": {},
   "source": [
    "# Some tests"
   ]
  },
  {
   "cell_type": "code",
   "execution_count": 14,
   "metadata": {},
   "outputs": [
    {
     "data": {
      "text/plain": [
       "<matplotlib.image.AxesImage at 0x187aec51550>"
      ]
     },
     "execution_count": 14,
     "metadata": {},
     "output_type": "execute_result"
    },
    {
     "data": {
      "image/png": "[encoded data removed]",
      "text/plain": [
       "<Figure size 640x480 with 3 Axes>"
      ]
     },
     "metadata": {},
     "output_type": "display_data"
    }
   ],
   "source": [
    "# Getting the initial image\n",
    "image = io.imread(\"images/0_2.png\")\n",
    "# Showing it\n",
    "plt.subplot(131)\n",
    "plt.imshow(image, cmap='gray')\n",
    "# To binary image\n",
    "image = to_binary_image(image)\n",
    "# Showing it\n",
    "plt.subplot(132)\n",
    "plt.imshow(image, cmap='gray')\n",
    "# Cropping the image\n",
    "image = crop_image(image)\n",
    "# Showing it\n",
    "plt.subplot(133)\n",
    "plt.imshow(image, cmap='gray')"
   ]
  }
 ],
 "metadata": {
  "kernelspec": {
   "display_name": "Python 3",
   "language": "python",
   "name": "python3"
  },
  "language_info": {
   "codemirror_mode": {
    "name": "ipython",
    "version": 3
   },
   "file_extension": ".py",
   "mimetype": "text/x-python",
   "name": "python",
   "nbconvert_exporter": "python",
   "pygments_lexer": "ipython3",
   "version": "3.11.1"
  },
  "orig_nbformat": 4
 },
 "nbformat": 4,
 "nbformat_minor": 2
}
